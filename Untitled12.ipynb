{
 "cells": [
  {
   "cell_type": "markdown",
   "id": "5a1cb36f",
   "metadata": {},
   "source": [
    "\n",
    "## Data Programing Problem Set 3\n",
    "## Submitted By - Abhishek Setia -200540020 ##\n",
    "## Question 1 - Occupations ##\n"
   ]
  },
  {
   "cell_type": "code",
   "execution_count": 46,
   "id": "c583361a",
   "metadata": {},
   "outputs": [
    {
     "name": "stdout",
     "output_type": "stream",
     "text": [
      "   user_id  age gender  occupation zip_code\n",
      "0        1   24      M  technician    85711\n",
      "1        2   53      F       other    94043\n",
      "2        3   23      M      writer    32067\n",
      "3        4   24      M  technician    43537\n",
      "4        5   33      F       other    15213\n"
     ]
    }
   ],
   "source": [
    "import pandas as pd\n",
    "\n",
    "url = 'https://raw.githubusercontent.com/justmarkham/DAT8/master/data/u.user'\n",
    "users = pd.read_csv(url, delimiter='|')\n",
    "\n",
    "print(users.head())\n",
    "\n",
    "# group the DataFrame by occupation and calculate the mean age"
   ]
  },
  {
   "cell_type": "code",
   "execution_count": 2,
   "id": "9c52a6f7",
   "metadata": {},
   "outputs": [
    {
     "name": "stdout",
     "output_type": "stream",
     "text": [
      "occupation\n",
      "administrator    38.746835\n",
      "artist           31.392857\n",
      "doctor           43.571429\n",
      "educator         42.010526\n",
      "engineer         36.388060\n",
      "entertainment    29.222222\n",
      "executive        38.718750\n",
      "healthcare       41.562500\n",
      "homemaker        32.571429\n",
      "lawyer           36.750000\n",
      "librarian        40.000000\n",
      "marketing        37.615385\n",
      "none             26.555556\n",
      "other            34.523810\n",
      "programmer       33.121212\n",
      "retired          63.071429\n",
      "salesman         35.666667\n",
      "scientist        35.548387\n",
      "student          22.081633\n",
      "technician       33.148148\n",
      "writer           36.311111\n",
      "Name: age, dtype: float64\n"
     ]
    }
   ],
   "source": [
    "mean_age_occupation = users.groupby('occupation')['age'].mean()\n",
    "\n",
    "print(mean_age_occupation)\n",
    "\n"
   ]
  },
  {
   "cell_type": "code",
   "execution_count": 3,
   "id": "d7b9da56",
   "metadata": {},
   "outputs": [
    {
     "name": "stdout",
     "output_type": "stream",
     "text": [
      "occupation\n",
      "doctor           1.000000\n",
      "engineer         0.970149\n",
      "technician       0.962963\n",
      "retired          0.928571\n",
      "programmer       0.909091\n",
      "executive        0.906250\n",
      "scientist        0.903226\n",
      "entertainment    0.888889\n",
      "lawyer           0.833333\n",
      "salesman         0.750000\n",
      "educator         0.726316\n",
      "student          0.693878\n",
      "other            0.657143\n",
      "marketing        0.615385\n",
      "writer           0.577778\n",
      "none             0.555556\n",
      "administrator    0.544304\n",
      "artist           0.535714\n",
      "librarian        0.431373\n",
      "healthcare       0.312500\n",
      "homemaker        0.142857\n",
      "dtype: float64\n"
     ]
    }
   ],
   "source": [
    "def male_ratio(group):\n",
    "    total = group['gender'].count()\n",
    "    male = (group['gender'] == 'M').sum()\n",
    "    return male / total\n",
    "\n",
    "ratio = users.groupby('occupation').apply(male_ratio)\n",
    "\n",
    "ratio = ratio.sort_values(ascending=False)\n",
    "\n",
    "print(ratio)"
   ]
  },
  {
   "cell_type": "code",
   "execution_count": 5,
   "id": "d70d9b26",
   "metadata": {},
   "outputs": [
    {
     "name": "stdout",
     "output_type": "stream",
     "text": [
      "               min  max\n",
      "occupation             \n",
      "administrator   21   70\n",
      "artist          19   48\n",
      "doctor          28   64\n",
      "educator        23   63\n",
      "engineer        22   70\n",
      "entertainment   15   50\n",
      "executive       22   69\n",
      "healthcare      22   62\n",
      "homemaker       20   50\n",
      "lawyer          21   53\n",
      "librarian       23   69\n",
      "marketing       24   55\n",
      "none            11   55\n",
      "other           13   64\n",
      "programmer      20   63\n",
      "retired         51   73\n",
      "salesman        18   66\n",
      "scientist       23   55\n",
      "student          7   42\n",
      "technician      21   55\n",
      "writer          18   60\n"
     ]
    }
   ],
   "source": [
    "minmax = users.groupby('occupation')['age'].agg(['min', 'max'])\n",
    "\n",
    "print(minmax)"
   ]
  },
  {
   "cell_type": "code",
   "execution_count": 10,
   "id": "4f3f699a",
   "metadata": {},
   "outputs": [
    {
     "name": "stdout",
     "output_type": "stream",
     "text": [
      "occupation     gender\n",
      "administrator  F         40.638889\n",
      "               M         37.162791\n",
      "artist         F         30.307692\n",
      "               M         32.333333\n",
      "doctor         M         43.571429\n",
      "educator       F         39.115385\n",
      "               M         43.101449\n",
      "engineer       F         29.500000\n",
      "               M         36.600000\n",
      "entertainment  F         31.000000\n",
      "               M         29.000000\n",
      "executive      F         44.000000\n",
      "               M         38.172414\n",
      "healthcare     F         39.818182\n",
      "               M         45.400000\n",
      "homemaker      F         34.166667\n",
      "               M         23.000000\n",
      "lawyer         F         39.500000\n",
      "               M         36.200000\n",
      "librarian      F         40.000000\n",
      "               M         40.000000\n",
      "marketing      F         37.200000\n",
      "               M         37.875000\n",
      "none           F         36.500000\n",
      "               M         18.600000\n",
      "other          F         35.472222\n",
      "               M         34.028986\n",
      "programmer     F         32.166667\n",
      "               M         33.216667\n",
      "retired        F         70.000000\n",
      "               M         62.538462\n",
      "salesman       F         27.000000\n",
      "               M         38.555556\n",
      "scientist      F         28.333333\n",
      "               M         36.321429\n",
      "student        F         20.750000\n",
      "               M         22.669118\n",
      "technician     F         38.000000\n",
      "               M         32.961538\n",
      "writer         F         37.631579\n",
      "               M         35.346154\n",
      "Name: age, dtype: float64\n"
     ]
    }
   ],
   "source": [
    "meanage = users.groupby(['occupation', 'gender'])['age'].mean()\n",
    "\n",
    "print(meanage)"
   ]
  },
  {
   "cell_type": "code",
   "execution_count": 14,
   "id": "e2675a70",
   "metadata": {},
   "outputs": [
    {
     "name": "stdout",
     "output_type": "stream",
     "text": [
      "occupation     gender\n",
      "administrator  M          54.430380\n",
      "               F          45.569620\n",
      "artist         M          53.571429\n",
      "               F          46.428571\n",
      "doctor         M         100.000000\n",
      "educator       M          72.631579\n",
      "               F          27.368421\n",
      "engineer       M          97.014925\n",
      "               F           2.985075\n",
      "entertainment  M          88.888889\n",
      "               F          11.111111\n",
      "executive      M          90.625000\n",
      "               F           9.375000\n",
      "healthcare     F          68.750000\n",
      "               M          31.250000\n",
      "homemaker      F          85.714286\n",
      "               M          14.285714\n",
      "lawyer         M          83.333333\n",
      "               F          16.666667\n",
      "librarian      F          56.862745\n",
      "               M          43.137255\n",
      "marketing      M          61.538462\n",
      "               F          38.461538\n",
      "none           M          55.555556\n",
      "               F          44.444444\n",
      "other          M          65.714286\n",
      "               F          34.285714\n",
      "programmer     M          90.909091\n",
      "               F           9.090909\n",
      "retired        M          92.857143\n",
      "               F           7.142857\n",
      "salesman       M          75.000000\n",
      "               F          25.000000\n",
      "scientist      M          90.322581\n",
      "               F           9.677419\n",
      "student        M          69.387755\n",
      "               F          30.612245\n",
      "technician     M          96.296296\n",
      "               F           3.703704\n",
      "writer         M          57.777778\n",
      "               F          42.222222\n",
      "Name: gender, dtype: float64\n"
     ]
    }
   ],
   "source": [
    "occupationpresent=users.groupby('occupation')['gender'].value_counts(normalize=True) * 100\n",
    "print(occupationpresent)"
   ]
  },
  {
   "cell_type": "markdown",
   "id": "5fc54eb1",
   "metadata": {},
   "source": [
    "## Question 2 ##"
   ]
  },
  {
   "cell_type": "code",
   "execution_count": 86,
   "id": "6db037d9",
   "metadata": {},
   "outputs": [
    {
     "name": "stdout",
     "output_type": "stream",
     "text": [
      "             Team  Goals  Shots on target  Shots off target Shooting Accuracy  \\\n",
      "0         Croatia      4               13                12             51.9%   \n",
      "1  Czech Republic      4               13                18             41.9%   \n",
      "2         Denmark      4               10                10             50.0%   \n",
      "3         England      5               11                18             50.0%   \n",
      "\n",
      "  % Goals-to-shots  Total shots (inc. Blocked)  Hit Woodwork  Penalty goals  \\\n",
      "0            16.0%                          32             0              0   \n",
      "1            12.9%                          39             0              0   \n",
      "2            20.0%                          27             1              0   \n",
      "3            17.2%                          40             0              0   \n",
      "\n",
      "   Penalties not scored  ...  Saves made  Saves-to-shots ratio  Fouls Won  \\\n",
      "0                     0  ...          13                 81.3%         41   \n",
      "1                     0  ...           9                 60.1%         53   \n",
      "2                     0  ...          10                 66.7%         25   \n",
      "3                     0  ...          22                 88.1%         43   \n",
      "\n",
      "  Fouls Conceded  Offsides  Yellow Cards  Red Cards  Subs on  Subs off  \\\n",
      "0             62         2             9          0        9         9   \n",
      "1             73         8             7          0       11        11   \n",
      "2             38         8             4          0        7         7   \n",
      "3             45         6             5          0       11        11   \n",
      "\n",
      "   Players Used  \n",
      "0            16  \n",
      "1            19  \n",
      "2            15  \n",
      "3            16  \n",
      "\n",
      "[4 rows x 35 columns]\n"
     ]
    }
   ],
   "source": [
    "import pandas as pd\n",
    "url='https://raw.githubusercontent.com/guipsamora/pandas_exercises/master/02_Filtering_%26_Sorting/Euro12/Euro_2012_stats_TEAM.csv'\n",
    "euro12 = pd.read_csv(url)\n",
    "print(euro12.head(4))"
   ]
  },
  {
   "cell_type": "code",
   "execution_count": 22,
   "id": "e3eaf7d2",
   "metadata": {},
   "outputs": [
    {
     "name": "stdout",
     "output_type": "stream",
     "text": [
      "0      4\n",
      "1      4\n",
      "2      4\n",
      "3      5\n",
      "4      3\n",
      "5     10\n",
      "6      5\n",
      "7      6\n",
      "8      2\n",
      "9      2\n",
      "10     6\n",
      "11     1\n",
      "12     5\n",
      "13    12\n",
      "14     5\n",
      "15     2\n",
      "Name: Goals, dtype: int64\n"
     ]
    }
   ],
   "source": [
    "goals = euro12['Goals']\n",
    "\n",
    "print(goals)"
   ]
  },
  {
   "cell_type": "code",
   "execution_count": 34,
   "id": "d1fd0c63",
   "metadata": {},
   "outputs": [
    {
     "name": "stdout",
     "output_type": "stream",
     "text": [
      "['Croatia' 'Czech Republic' 'Denmark' 'England' 'France' 'Germany'\n",
      " 'Greece' 'Italy' 'Netherlands' 'Poland' 'Portugal' 'Republic of Ireland'\n",
      " 'Russia' 'Spain' 'Sweden' 'Ukraine']\n",
      "The total team participated in the Euro2012 are: 16\n"
     ]
    }
   ],
   "source": [
    "unique= euro12['Team'].unique()\n",
    "unique1= euro12['Team'].nunique()\n",
    "print(unique)\n",
    "print('The total team participated in the Euro2012 are:',unique1)"
   ]
  },
  {
   "cell_type": "code",
   "execution_count": 49,
   "id": "bfc6ef75",
   "metadata": {},
   "outputs": [
    {
     "name": "stdout",
     "output_type": "stream",
     "text": [
      "The total rows and columns are: (16, 35)\n",
      "The total columns are: 35\n"
     ]
    }
   ],
   "source": [
    "#The get the total rows and columns we can use only shape\n",
    "num_cols = euro12.shape\n",
    "print('The total rows and columns are:', num_cols)\n",
    "#The get the total columns we can use only shape[1]\n",
    "num_cols1 = euro12.shape[1]\n",
    "print('The total columns are:', num_cols1)"
   ]
  },
  {
   "cell_type": "code",
   "execution_count": 50,
   "id": "d0d45e7c",
   "metadata": {},
   "outputs": [
    {
     "name": "stdout",
     "output_type": "stream",
     "text": [
      "                   Team  Yellow Cards  Red Cards\n",
      "0               Croatia             9          0\n",
      "1        Czech Republic             7          0\n",
      "2               Denmark             4          0\n",
      "3               England             5          0\n",
      "4                France             6          0\n",
      "5               Germany             4          0\n",
      "6                Greece             9          1\n",
      "7                 Italy            16          0\n",
      "8           Netherlands             5          0\n",
      "9                Poland             7          1\n",
      "10             Portugal            12          0\n",
      "11  Republic of Ireland             6          1\n",
      "12               Russia             6          0\n",
      "13                Spain            11          0\n",
      "14               Sweden             7          0\n",
      "15              Ukraine             5          0\n"
     ]
    }
   ],
   "source": [
    "discipline = euro12[['Team', 'Yellow Cards', 'Red Cards']]\n",
    "\n",
    "print(discipline)"
   ]
  },
  {
   "cell_type": "code",
   "execution_count": 51,
   "id": "bea6e743",
   "metadata": {},
   "outputs": [
    {
     "name": "stdout",
     "output_type": "stream",
     "text": [
      "                   Team  Red Cards  Yellow Cards\n",
      "6                Greece          1             9\n",
      "9                Poland          1             7\n",
      "11  Republic of Ireland          1             6\n",
      "7                 Italy          0            16\n",
      "10             Portugal          0            12\n",
      "13                Spain          0            11\n",
      "0               Croatia          0             9\n",
      "1        Czech Republic          0             7\n",
      "14               Sweden          0             7\n",
      "4                France          0             6\n",
      "12               Russia          0             6\n",
      "3               England          0             5\n",
      "8           Netherlands          0             5\n",
      "15              Ukraine          0             5\n",
      "2               Denmark          0             4\n",
      "5               Germany          0             4\n"
     ]
    }
   ],
   "source": [
    "euro12_sorted = euro12.sort_values(['Red Cards', 'Yellow Cards'], ascending=[False, False])\n",
    "\n",
    "print(euro12_sorted[['Team', 'Red Cards', 'Yellow Cards']])"
   ]
  },
  {
   "cell_type": "code",
   "execution_count": 56,
   "id": "94ea250f",
   "metadata": {},
   "outputs": [
    {
     "name": "stdout",
     "output_type": "stream",
     "text": [
      "Team\n",
      "Croatia                 9.0\n",
      "Czech Republic          7.0\n",
      "Denmark                 4.0\n",
      "England                 5.0\n",
      "France                  6.0\n",
      "Germany                 4.0\n",
      "Greece                  9.0\n",
      "Italy                  16.0\n",
      "Netherlands             5.0\n",
      "Poland                  7.0\n",
      "Portugal               12.0\n",
      "Republic of Ireland     6.0\n",
      "Russia                  6.0\n",
      "Spain                  11.0\n",
      "Sweden                  7.0\n",
      "Ukraine                 5.0\n",
      "Name: Yellow Cards, dtype: float64\n"
     ]
    }
   ],
   "source": [
    "yellowcards= euro12.groupby('Team')['Yellow Cards'].mean()\n",
    "print(yellowcards)"
   ]
  },
  {
   "cell_type": "code",
   "execution_count": 64,
   "id": "e7b744ed",
   "metadata": {},
   "outputs": [
    {
     "name": "stdout",
     "output_type": "stream",
     "text": [
      "       Team  Goals\n",
      "5   Germany     10\n",
      "13    Spain     12\n"
     ]
    }
   ],
   "source": [
    "Team = euro12[euro12['Goals']>6]\n",
    "\n",
    "print(Team[['Team','Goals']])\n"
   ]
  },
  {
   "cell_type": "code",
   "execution_count": 73,
   "id": "e633baa9",
   "metadata": {},
   "outputs": [
    {
     "name": "stdout",
     "output_type": "stream",
     "text": [
      "the First 7 columns are: Empty DataFrame\n",
      "Columns: [Team, Goals, Shots on target, Shots off target, Shooting Accuracy, % Goals-to-shots, Total shots (inc. Blocked)]\n",
      "Index: []\n"
     ]
    }
   ],
   "source": [
    "columns = euro12.iloc[:, :7]\n",
    "\n",
    "print('the First 7 columns are:' ,columns.head(0))\n"
   ]
  },
  {
   "cell_type": "code",
   "execution_count": 77,
   "id": "f1e9add9",
   "metadata": {},
   "outputs": [
    {
     "name": "stdout",
     "output_type": "stream",
     "text": [
      "the First 7 columns are: Empty DataFrame\n",
      "Columns: [Team, Goals, Shots on target, Shots off target, Shooting Accuracy, % Goals-to-shots, Total shots (inc. Blocked), Hit Woodwork, Penalty goals, Penalties not scored, Headed goals, Passes, Passes completed, Passing Accuracy, Touches, Crosses, Dribbles, Corners Taken, Tackles, Clearances, Interceptions, Clearances off line, Clean Sheets, Blocks, Goals conceded, Saves made, Saves-to-shots ratio, Fouls Won, Fouls Conceded, Offsides, Yellow Cards, Red Cards]\n",
      "Index: []\n",
      "\n",
      "[0 rows x 32 columns]\n"
     ]
    }
   ],
   "source": [
    "columns = euro12.iloc[:, :-3]\n",
    "\n",
    "print('the columns are:' ,columns.head(0))"
   ]
  },
  {
   "cell_type": "code",
   "execution_count": 85,
   "id": "cf40373c",
   "metadata": {},
   "outputs": [
    {
     "name": "stdout",
     "output_type": "stream",
     "text": [
      "       Team Shooting Accuracy\n",
      "3   England             50.0%\n",
      "7     Italy             43.0%\n",
      "12   Russia             22.5%\n"
     ]
    }
   ],
   "source": [
    "accuracy=euro12[euro12['Team'].isin(['England', 'Italy' , 'Russia'])]\n",
    "print(accuracy[['Team', 'Shooting Accuracy']])"
   ]
  },
  {
   "cell_type": "markdown",
   "id": "46ca14bd",
   "metadata": {},
   "source": [
    "## Question 3 ##"
   ]
  },
  {
   "cell_type": "code",
   "execution_count": 109,
   "id": "9bfd8fdc",
   "metadata": {},
   "outputs": [],
   "source": [
    "import pandas as pd\n",
    "import numpy as np\n",
    "\n",
    "\n",
    "series1 = pd.Series(np.random.randint(1, 5, size=100))\n",
    "\n",
    "\n",
    "series2 = pd.Series(np.random.randint(1, 4, size=100))\n",
    "\n",
    "\n",
    "series3 = pd.Series(np.random.randint(10000, 30001, size=100))\n"
   ]
  },
  {
   "cell_type": "code",
   "execution_count": 110,
   "id": "3811444a",
   "metadata": {},
   "outputs": [],
   "source": [
    "df = pd.concat([series1, series2, series3], axis=1)\n",
    "df.columns = ['bedrs', 'bathrs', 'price_sqr_meter']\n",
    "\n",
    "# create a one-column DataFrame with the values of the three Series\n",
    "bigcolumn = pd.DataFrame(pd.concat([series1, series2, series3], axis=0))"
   ]
  },
  {
   "cell_type": "code",
   "execution_count": 111,
   "id": "94b1114b",
   "metadata": {},
   "outputs": [
    {
     "name": "stdout",
     "output_type": "stream",
     "text": [
      "Int64Index([ 0,  1,  2,  3,  4,  5,  6,  7,  8,  9,\n",
      "            ...\n",
      "            90, 91, 92, 93, 94, 95, 96, 97, 98, 99],\n",
      "           dtype='int64', length=300)\n",
      "     bigcolumn\n",
      "0            2\n",
      "1            4\n",
      "2            3\n",
      "3            2\n",
      "4            2\n",
      "..         ...\n",
      "295      28149\n",
      "296      29715\n",
      "297      16452\n",
      "298      11147\n",
      "299      11737\n",
      "\n",
      "[300 rows x 1 columns]\n"
     ]
    }
   ],
   "source": [
    "print(bigcolumn.index)\n",
    "\n",
    "bigcolumn = bigcolumn.reset_index().drop('index', axis=1)\n",
    "bigcolumn.columns = ['bigcolumn']\n",
    "print(bigcolumn)"
   ]
  },
  {
   "cell_type": "markdown",
   "id": "6bcf2fed",
   "metadata": {},
   "source": [
    "## Question 4 ##"
   ]
  },
  {
   "cell_type": "code",
   "execution_count": 116,
   "id": "6afebfd8",
   "metadata": {},
   "outputs": [],
   "source": [
    "import pandas as pd\n",
    "import numpy as np\n",
    "data = pd.read_csv('wind.txt', sep='\\s+')\n"
   ]
  },
  {
   "cell_type": "code",
   "execution_count": 117,
   "id": "39fa6d6c",
   "metadata": {},
   "outputs": [
    {
     "data": {
      "text/plain": [
       "0    2061-01-01\n",
       "1    2061-01-02\n",
       "2    2061-01-03\n",
       "3    2061-01-04\n",
       "4    2061-01-05\n",
       "5    2061-01-06\n",
       "6    2061-01-07\n",
       "7    2061-01-08\n",
       "8    2061-01-09\n",
       "9    2061-01-10\n",
       "10   2061-01-11\n",
       "11   2061-01-12\n",
       "12   2061-01-13\n",
       "13   2061-01-14\n",
       "14   2061-01-15\n",
       "15   2061-01-16\n",
       "16   2061-01-17\n",
       "17   2061-01-18\n",
       "18   2061-01-19\n",
       "19   2061-01-20\n",
       "20   2061-01-21\n",
       "21   2061-01-22\n",
       "22   2061-01-23\n",
       "23   2061-01-24\n",
       "24   2061-01-25\n",
       "25   2061-01-26\n",
       "26   2061-01-27\n",
       "27   2061-01-28\n",
       "28   2061-01-29\n",
       "29   2061-01-30\n",
       "30   2061-01-31\n",
       "31   2061-02-01\n",
       "32   2061-02-02\n",
       "33   2061-02-03\n",
       "34   2061-02-04\n",
       "Name: Date, dtype: datetime64[ns]"
      ]
     },
     "execution_count": 117,
     "metadata": {},
     "output_type": "execute_result"
    }
   ],
   "source": [
    "data['Date'] = '20' + data['Yr'].astype(str) + '-' + data['Mo'].astype(str) + '-' + data['Dy'].astype(str)\n",
    "\n",
    "data['Date'] = pd.to_datetime(data['Date'], format='%Y-%m-%d')\n",
    "\n",
    "data.Date"
   ]
  },
  {
   "cell_type": "code",
   "execution_count": 118,
   "id": "69648a1b",
   "metadata": {},
   "outputs": [],
   "source": [
    "data = data.drop(columns=[\"Yr\",\"Mo\",\"Dy\"])\n"
   ]
  },
  {
   "cell_type": "code",
   "execution_count": 119,
   "id": "e97f513d",
   "metadata": {},
   "outputs": [],
   "source": [
    "data[\"Date\"] = np.where(pd.DatetimeIndex(data[\"Date\"]).year < 2023,data.Date,data.Date - pd.offsets.DateOffset(years=100))\n"
   ]
  },
  {
   "cell_type": "code",
   "execution_count": 120,
   "id": "c3451bd7",
   "metadata": {},
   "outputs": [
    {
     "data": {
      "text/plain": [
       "DatetimeIndex(['1961-01-01', '1961-01-02', '1961-01-03', '1961-01-04',\n",
       "               '1961-01-05', '1961-01-06', '1961-01-07', '1961-01-08',\n",
       "               '1961-01-09', '1961-01-10', '1961-01-11', '1961-01-12',\n",
       "               '1961-01-13', '1961-01-14', '1961-01-15', '1961-01-16',\n",
       "               '1961-01-17', '1961-01-18', '1961-01-19', '1961-01-20',\n",
       "               '1961-01-21', '1961-01-22', '1961-01-23', '1961-01-24',\n",
       "               '1961-01-25', '1961-01-26', '1961-01-27', '1961-01-28',\n",
       "               '1961-01-29', '1961-01-30', '1961-01-31', '1961-02-01',\n",
       "               '1961-02-02', '1961-02-03', '1961-02-04'],\n",
       "              dtype='datetime64[ns]', name='Date', freq=None)"
      ]
     },
     "execution_count": 120,
     "metadata": {},
     "output_type": "execute_result"
    }
   ],
   "source": [
    "newData = data.set_index(\"Date\")\n",
    "newData.index.astype(\"datetime64[ns]\")"
   ]
  },
  {
   "cell_type": "code",
   "execution_count": 121,
   "id": "acd72d05",
   "metadata": {},
   "outputs": [
    {
     "name": "stdout",
     "output_type": "stream",
     "text": [
      "5\n",
      "Total Non-missing values  : 450\n"
     ]
    },
    {
     "name": "stderr",
     "output_type": "stream",
     "text": [
      "C:\\Users\\abhis\\AppData\\Local\\Temp\\ipykernel_22548\\332930444.py:3: FutureWarning: DataFrame.mean and DataFrame.median with numeric_only=None will include datetime64 and datetime64tz columns in a future version.\n",
      "  data.mean()\n"
     ]
    },
    {
     "data": {
      "text/plain": [
       "RPT    14.841471\n",
       "VAL    12.357353\n",
       "ROS    13.068000\n",
       "KIL     7.601714\n",
       "SHA    11.299697\n",
       "BIR     8.510286\n",
       "DUB    11.109143\n",
       "CLA     8.918824\n",
       "MUL     9.046286\n",
       "CLO     9.842857\n",
       "BEL    13.650571\n",
       "MAL    14.043143\n",
       "dtype: float64"
      ]
     },
     "execution_count": 121,
     "metadata": {},
     "output_type": "execute_result"
    }
   ],
   "source": [
    "print(data.isnull().values.sum())\n",
    "print(\"Total Non-missing values  :\",sum(data.count()))\n",
    "data.mean()"
   ]
  },
  {
   "cell_type": "code",
   "execution_count": 122,
   "id": "4e5b875a",
   "metadata": {},
   "outputs": [
    {
     "name": "stderr",
     "output_type": "stream",
     "text": [
      "C:\\Users\\abhis\\AppData\\Local\\Temp\\ipykernel_22548\\281829329.py:3: FutureWarning: DataFrame.mean and DataFrame.median with numeric_only=None will include datetime64 and datetime64tz columns in a future version.\n",
      "  Mean=data.mean()\n"
     ]
    },
    {
     "data": {
      "text/html": [
       "<div>\n",
       "<style scoped>\n",
       "    .dataframe tbody tr th:only-of-type {\n",
       "        vertical-align: middle;\n",
       "    }\n",
       "\n",
       "    .dataframe tbody tr th {\n",
       "        vertical-align: top;\n",
       "    }\n",
       "\n",
       "    .dataframe thead th {\n",
       "        text-align: right;\n",
       "    }\n",
       "</style>\n",
       "<table border=\"1\" class=\"dataframe\">\n",
       "  <thead>\n",
       "    <tr style=\"text-align: right;\">\n",
       "      <th></th>\n",
       "      <th>RPT</th>\n",
       "      <th>VAL</th>\n",
       "      <th>ROS</th>\n",
       "      <th>KIL</th>\n",
       "      <th>SHA</th>\n",
       "      <th>BIR</th>\n",
       "      <th>DUB</th>\n",
       "      <th>CLA</th>\n",
       "      <th>MUL</th>\n",
       "      <th>CLO</th>\n",
       "      <th>BEL</th>\n",
       "      <th>MAL</th>\n",
       "      <th>Date</th>\n",
       "    </tr>\n",
       "  </thead>\n",
       "  <tbody>\n",
       "    <tr>\n",
       "      <th>Min</th>\n",
       "      <td>4.920000</td>\n",
       "      <td>3.420000</td>\n",
       "      <td>7.080000</td>\n",
       "      <td>0.670000</td>\n",
       "      <td>2.290000</td>\n",
       "      <td>0.960000</td>\n",
       "      <td>2.500000</td>\n",
       "      <td>0.580000</td>\n",
       "      <td>0.500000</td>\n",
       "      <td>2.670000</td>\n",
       "      <td>5.250000</td>\n",
       "      <td>5.170000</td>\n",
       "      <td>1961-01-01 00:00:00</td>\n",
       "    </tr>\n",
       "    <tr>\n",
       "      <th>Max</th>\n",
       "      <td>25.040000</td>\n",
       "      <td>24.210000</td>\n",
       "      <td>25.840000</td>\n",
       "      <td>18.540000</td>\n",
       "      <td>24.080000</td>\n",
       "      <td>19.700000</td>\n",
       "      <td>22.000000</td>\n",
       "      <td>20.250000</td>\n",
       "      <td>21.460000</td>\n",
       "      <td>19.950000</td>\n",
       "      <td>27.710000</td>\n",
       "      <td>27.630000</td>\n",
       "      <td>1961-02-04 00:00:00</td>\n",
       "    </tr>\n",
       "    <tr>\n",
       "      <th>Mean</th>\n",
       "      <td>14.841471</td>\n",
       "      <td>12.357353</td>\n",
       "      <td>13.068000</td>\n",
       "      <td>7.601714</td>\n",
       "      <td>11.299697</td>\n",
       "      <td>8.510286</td>\n",
       "      <td>11.109143</td>\n",
       "      <td>8.918824</td>\n",
       "      <td>9.046286</td>\n",
       "      <td>9.842857</td>\n",
       "      <td>13.650571</td>\n",
       "      <td>14.043143</td>\n",
       "      <td>NaN</td>\n",
       "    </tr>\n",
       "    <tr>\n",
       "      <th>Std</th>\n",
       "      <td>4.796404</td>\n",
       "      <td>5.019238</td>\n",
       "      <td>4.687764</td>\n",
       "      <td>4.666076</td>\n",
       "      <td>5.076900</td>\n",
       "      <td>4.445021</td>\n",
       "      <td>4.628533</td>\n",
       "      <td>4.673987</td>\n",
       "      <td>4.498335</td>\n",
       "      <td>4.499626</td>\n",
       "      <td>5.857631</td>\n",
       "      <td>5.722592</td>\n",
       "      <td>10 days 05:55:36.546178909</td>\n",
       "    </tr>\n",
       "  </tbody>\n",
       "</table>\n",
       "</div>"
      ],
      "text/plain": [
       "            RPT        VAL        ROS        KIL        SHA        BIR  \\\n",
       "Min    4.920000   3.420000   7.080000   0.670000   2.290000   0.960000   \n",
       "Max   25.040000  24.210000  25.840000  18.540000  24.080000  19.700000   \n",
       "Mean  14.841471  12.357353  13.068000   7.601714  11.299697   8.510286   \n",
       "Std    4.796404   5.019238   4.687764   4.666076   5.076900   4.445021   \n",
       "\n",
       "            DUB        CLA        MUL        CLO        BEL        MAL  \\\n",
       "Min    2.500000   0.580000   0.500000   2.670000   5.250000   5.170000   \n",
       "Max   22.000000  20.250000  21.460000  19.950000  27.710000  27.630000   \n",
       "Mean  11.109143   8.918824   9.046286   9.842857  13.650571  14.043143   \n",
       "Std    4.628533   4.673987   4.498335   4.499626   5.857631   5.722592   \n",
       "\n",
       "                            Date  \n",
       "Min          1961-01-01 00:00:00  \n",
       "Max          1961-02-04 00:00:00  \n",
       "Mean                         NaN  \n",
       "Std   10 days 05:55:36.546178909  "
      ]
     },
     "execution_count": 122,
     "metadata": {},
     "output_type": "execute_result"
    }
   ],
   "source": [
    "Min=data.min()\n",
    "Max=data.max()\n",
    "Mean=data.mean()\n",
    "Std=data.std()\n",
    "var=[Min,Max,Mean,Std]\n",
    "ind=[\"Min\",\"Max\",\"Mean\",\"Std\"]\n",
    "loc_stats= pd.DataFrame(var,ind)\n",
    "loc_stats"
   ]
  },
  {
   "cell_type": "code",
   "execution_count": 123,
   "id": "e438ea0b",
   "metadata": {},
   "outputs": [
    {
     "name": "stdout",
     "output_type": "stream",
     "text": [
      "Windspeeds of January:\n",
      "RPT    14.841333\n",
      "VAL    11.988333\n",
      "ROS    13.431613\n",
      "KIL     7.736774\n",
      "SHA    11.072759\n",
      "BIR     8.588065\n",
      "DUB    11.184839\n",
      "CLA     9.245333\n",
      "MUL     9.085806\n",
      "CLO    10.107419\n",
      "BEL    13.880968\n",
      "MAL    14.703226\n",
      "dtype: float64\n"
     ]
    }
   ],
   "source": [
    "jan_data = newData[newData.index.month == 1]\n",
    "print (\"Windspeeds of January:\")\n",
    "print (jan_data.mean())\n"
   ]
  },
  {
   "cell_type": "code",
   "execution_count": 124,
   "id": "23770135",
   "metadata": {},
   "outputs": [
    {
     "name": "stdout",
     "output_type": "stream",
     "text": [
      "Downsample Data to Yearly Frequency:\n",
      "                   RPT        VAL     ROS       KIL        SHA       BIR  \\\n",
      "Date                                                                      \n",
      "1961-12-31  14.841471  12.357353  13.068  7.601714  11.299697  8.510286   \n",
      "\n",
      "                  DUB       CLA       MUL       CLO        BEL        MAL  \n",
      "Date                                                                       \n",
      "1961-12-31  11.109143  8.918824  9.046286  9.842857  13.650571  14.043143  \n"
     ]
    }
   ],
   "source": [
    "print( \"Downsample Data to Yearly Frequency:\\n\", newData.resample('Y').mean())"
   ]
  },
  {
   "cell_type": "code",
   "execution_count": 125,
   "id": "a407e151",
   "metadata": {},
   "outputs": [
    {
     "name": "stdout",
     "output_type": "stream",
     "text": [
      "Downsample Data to Monthly Frequency:\n",
      "                   RPT        VAL        ROS       KIL        SHA       BIR  \\\n",
      "Date                                                                         \n",
      "1961-01-31  14.841333  11.988333  13.431613  7.736774  11.072759  8.588065   \n",
      "1961-02-28  14.842500  15.125000  10.250000  6.555000  12.945000  7.907500   \n",
      "\n",
      "                  DUB       CLA       MUL        CLO        BEL        MAL  \n",
      "Date                                                                        \n",
      "1961-01-31  11.184839  9.245333  9.085806  10.107419  13.880968  14.703226  \n",
      "1961-02-28  10.522500  6.470000  8.740000   7.792500  11.865000   8.927500  \n"
     ]
    }
   ],
   "source": [
    "print( \"Downsample Data to Monthly Frequency:\\n\", newData.resample('M').mean())"
   ]
  },
  {
   "cell_type": "code",
   "execution_count": 126,
   "id": "ccfe3fd6",
   "metadata": {},
   "outputs": [
    {
     "name": "stdout",
     "output_type": "stream",
     "text": [
      "Downsample Data to Weekly Frequency:\n",
      "                   RPT        VAL     ROS       KIL        SHA       BIR  \\\n",
      "Date                                                                      \n",
      "1961-12-31  14.841471  12.357353  13.068  7.601714  11.299697  8.510286   \n",
      "\n",
      "                  DUB       CLA       MUL       CLO        BEL        MAL  \n",
      "Date                                                                       \n",
      "1961-12-31  11.109143  8.918824  9.046286  9.842857  13.650571  14.043143  \n"
     ]
    }
   ],
   "source": [
    "print( \"Downsample Data to Weekly Frequency:\\n\", newData.resample('Y').mean())"
   ]
  },
  {
   "cell_type": "markdown",
   "id": "c7bc84ed",
   "metadata": {},
   "source": [
    "## Question 5 ##"
   ]
  },
  {
   "cell_type": "markdown",
   "id": "10493432",
   "metadata": {},
   "source": [
    "### Points 1 to 8 ###"
   ]
  },
  {
   "cell_type": "code",
   "execution_count": 127,
   "id": "d041e19b",
   "metadata": {},
   "outputs": [
    {
     "name": "stdout",
     "output_type": "stream",
     "text": [
      "4622\n",
      "5\n"
     ]
    },
    {
     "data": {
      "text/plain": [
       "RangeIndex(start=0, stop=4622, step=1)"
      ]
     },
     "execution_count": 127,
     "metadata": {},
     "output_type": "execute_result"
    }
   ],
   "source": [
    "import numpy as np \n",
    "import pandas as pd\n",
    "chipo=pd.read_csv(r'https://raw.githubusercontent.com/justmarkham/DAT8/master/data/chipotle.tsv',sep=\"\\t\")\n",
    "chipo.head(10)\n",
    "print(len(chipo))\n",
    "\n",
    "print(len(chipo.columns))\n",
    "chipo.columns\n",
    "chipo.index\n"
   ]
  },
  {
   "cell_type": "code",
   "execution_count": 128,
   "id": "70b1b720",
   "metadata": {},
   "outputs": [
    {
     "data": {
      "text/html": [
       "<div>\n",
       "<style scoped>\n",
       "    .dataframe tbody tr th:only-of-type {\n",
       "        vertical-align: middle;\n",
       "    }\n",
       "\n",
       "    .dataframe tbody tr th {\n",
       "        vertical-align: top;\n",
       "    }\n",
       "\n",
       "    .dataframe thead th {\n",
       "        text-align: right;\n",
       "    }\n",
       "</style>\n",
       "<table border=\"1\" class=\"dataframe\">\n",
       "  <thead>\n",
       "    <tr style=\"text-align: right;\">\n",
       "      <th></th>\n",
       "      <th>order_id</th>\n",
       "      <th>quantity</th>\n",
       "    </tr>\n",
       "    <tr>\n",
       "      <th>item_name</th>\n",
       "      <th></th>\n",
       "      <th></th>\n",
       "    </tr>\n",
       "  </thead>\n",
       "  <tbody>\n",
       "    <tr>\n",
       "      <th>Chicken Bowl</th>\n",
       "      <td>713926</td>\n",
       "      <td>761</td>\n",
       "    </tr>\n",
       "  </tbody>\n",
       "</table>\n",
       "</div>"
      ],
      "text/plain": [
       "              order_id  quantity\n",
       "item_name                       \n",
       "Chicken Bowl    713926       761"
      ]
     },
     "execution_count": 128,
     "metadata": {},
     "output_type": "execute_result"
    }
   ],
   "source": [
    "most_ordered=chipo.groupby('item_name').sum()\n",
    "order=most_ordered.sort_values(by=['quantity'], ascending = False)\n",
    "order.head(1)"
   ]
  },
  {
   "cell_type": "code",
   "execution_count": 129,
   "id": "a6291c91",
   "metadata": {},
   "outputs": [
    {
     "data": {
      "text/plain": [
       "dtype('float64')"
      ]
     },
     "execution_count": 129,
     "metadata": {},
     "output_type": "execute_result"
    }
   ],
   "source": [
    "most_ordered=chipo.groupby('choice_description').sum()\n",
    "order=most_ordered.sort_values(by=['quantity'], ascending = False)\n",
    "order.head(1)\n",
    "chipo.item_price.dtype  \n",
    "convert_Float = lambda x: float(x[1:-1])\n",
    "chipo.item_price = chipo.item_price.apply(convert_Float)\n",
    "chipo.item_price.dtype  "
   ]
  },
  {
   "cell_type": "code",
   "execution_count": 134,
   "id": "50fbde45",
   "metadata": {},
   "outputs": [
    {
     "name": "stdout",
     "output_type": "stream",
     "text": [
      "39237.020000000055\n"
     ]
    },
    {
     "data": {
      "text/plain": [
       "1834"
      ]
     },
     "execution_count": 134,
     "metadata": {},
     "output_type": "execute_result"
    }
   ],
   "source": [
    "total_revenue=chipo['quantity']*chipo['item_price']\n",
    "print(sum(total_revenue))\n",
    "chipo.order_id.value_counts().count()"
   ]
  },
  {
   "cell_type": "code",
   "execution_count": 135,
   "id": "6b767c93",
   "metadata": {},
   "outputs": [
    {
     "ename": "KeyError",
     "evalue": "'revenue'",
     "output_type": "error",
     "traceback": [
      "\u001b[1;31m---------------------------------------------------------------------------\u001b[0m",
      "\u001b[1;31mKeyError\u001b[0m                                  Traceback (most recent call last)",
      "\u001b[1;32m~\\anaconda3\\lib\\site-packages\\pandas\\core\\indexes\\base.py\u001b[0m in \u001b[0;36mget_loc\u001b[1;34m(self, key, method, tolerance)\u001b[0m\n\u001b[0;32m   3628\u001b[0m             \u001b[1;32mtry\u001b[0m\u001b[1;33m:\u001b[0m\u001b[1;33m\u001b[0m\u001b[1;33m\u001b[0m\u001b[0m\n\u001b[1;32m-> 3629\u001b[1;33m                 \u001b[1;32mreturn\u001b[0m \u001b[0mself\u001b[0m\u001b[1;33m.\u001b[0m\u001b[0m_engine\u001b[0m\u001b[1;33m.\u001b[0m\u001b[0mget_loc\u001b[0m\u001b[1;33m(\u001b[0m\u001b[0mcasted_key\u001b[0m\u001b[1;33m)\u001b[0m\u001b[1;33m\u001b[0m\u001b[1;33m\u001b[0m\u001b[0m\n\u001b[0m\u001b[0;32m   3630\u001b[0m             \u001b[1;32mexcept\u001b[0m \u001b[0mKeyError\u001b[0m \u001b[1;32mas\u001b[0m \u001b[0merr\u001b[0m\u001b[1;33m:\u001b[0m\u001b[1;33m\u001b[0m\u001b[1;33m\u001b[0m\u001b[0m\n",
      "\u001b[1;32m~\\anaconda3\\lib\\site-packages\\pandas\\_libs\\index.pyx\u001b[0m in \u001b[0;36mpandas._libs.index.IndexEngine.get_loc\u001b[1;34m()\u001b[0m\n",
      "\u001b[1;32m~\\anaconda3\\lib\\site-packages\\pandas\\_libs\\index.pyx\u001b[0m in \u001b[0;36mpandas._libs.index.IndexEngine.get_loc\u001b[1;34m()\u001b[0m\n",
      "\u001b[1;32mpandas\\_libs\\hashtable_class_helper.pxi\u001b[0m in \u001b[0;36mpandas._libs.hashtable.PyObjectHashTable.get_item\u001b[1;34m()\u001b[0m\n",
      "\u001b[1;32mpandas\\_libs\\hashtable_class_helper.pxi\u001b[0m in \u001b[0;36mpandas._libs.hashtable.PyObjectHashTable.get_item\u001b[1;34m()\u001b[0m\n",
      "\u001b[1;31mKeyError\u001b[0m: 'revenue'",
      "\nThe above exception was the direct cause of the following exception:\n",
      "\u001b[1;31mKeyError\u001b[0m                                  Traceback (most recent call last)",
      "\u001b[1;32m~\\AppData\\Local\\Temp\\ipykernel_22548\\2521492174.py\u001b[0m in \u001b[0;36m<module>\u001b[1;34m\u001b[0m\n\u001b[0;32m      1\u001b[0m \u001b[0mrevenue\u001b[0m \u001b[1;33m=\u001b[0m \u001b[0mchipo\u001b[0m\u001b[1;33m[\u001b[0m\u001b[1;34m'quantity'\u001b[0m\u001b[1;33m]\u001b[0m \u001b[1;33m*\u001b[0m \u001b[0mchipo\u001b[0m\u001b[1;33m[\u001b[0m\u001b[1;34m'item_price'\u001b[0m\u001b[1;33m]\u001b[0m\u001b[1;33m\u001b[0m\u001b[1;33m\u001b[0m\u001b[0m\n\u001b[0;32m      2\u001b[0m \u001b[0md\u001b[0m \u001b[1;33m=\u001b[0m \u001b[0morder_grouped\u001b[0m \u001b[1;33m=\u001b[0m \u001b[0mchipo\u001b[0m\u001b[1;33m.\u001b[0m\u001b[0mgroupby\u001b[0m\u001b[1;33m(\u001b[0m\u001b[0mby\u001b[0m\u001b[1;33m=\u001b[0m\u001b[1;33m[\u001b[0m\u001b[1;34m'order_id'\u001b[0m\u001b[1;33m]\u001b[0m\u001b[1;33m)\u001b[0m\u001b[1;33m.\u001b[0m\u001b[0msum\u001b[0m\u001b[1;33m(\u001b[0m\u001b[1;33m)\u001b[0m\u001b[1;33m\u001b[0m\u001b[1;33m\u001b[0m\u001b[0m\n\u001b[1;32m----> 3\u001b[1;33m \u001b[0morder_grouped\u001b[0m\u001b[1;33m.\u001b[0m\u001b[0mmean\u001b[0m\u001b[1;33m(\u001b[0m\u001b[1;33m)\u001b[0m\u001b[1;33m[\u001b[0m\u001b[1;34m'revenue'\u001b[0m\u001b[1;33m]\u001b[0m\u001b[1;33m\u001b[0m\u001b[1;33m\u001b[0m\u001b[0m\n\u001b[0m",
      "\u001b[1;32m~\\anaconda3\\lib\\site-packages\\pandas\\core\\series.py\u001b[0m in \u001b[0;36m__getitem__\u001b[1;34m(self, key)\u001b[0m\n\u001b[0;32m    956\u001b[0m \u001b[1;33m\u001b[0m\u001b[0m\n\u001b[0;32m    957\u001b[0m         \u001b[1;32melif\u001b[0m \u001b[0mkey_is_scalar\u001b[0m\u001b[1;33m:\u001b[0m\u001b[1;33m\u001b[0m\u001b[1;33m\u001b[0m\u001b[0m\n\u001b[1;32m--> 958\u001b[1;33m             \u001b[1;32mreturn\u001b[0m \u001b[0mself\u001b[0m\u001b[1;33m.\u001b[0m\u001b[0m_get_value\u001b[0m\u001b[1;33m(\u001b[0m\u001b[0mkey\u001b[0m\u001b[1;33m)\u001b[0m\u001b[1;33m\u001b[0m\u001b[1;33m\u001b[0m\u001b[0m\n\u001b[0m\u001b[0;32m    959\u001b[0m \u001b[1;33m\u001b[0m\u001b[0m\n\u001b[0;32m    960\u001b[0m         \u001b[1;32mif\u001b[0m \u001b[0mis_hashable\u001b[0m\u001b[1;33m(\u001b[0m\u001b[0mkey\u001b[0m\u001b[1;33m)\u001b[0m\u001b[1;33m:\u001b[0m\u001b[1;33m\u001b[0m\u001b[1;33m\u001b[0m\u001b[0m\n",
      "\u001b[1;32m~\\anaconda3\\lib\\site-packages\\pandas\\core\\series.py\u001b[0m in \u001b[0;36m_get_value\u001b[1;34m(self, label, takeable)\u001b[0m\n\u001b[0;32m   1067\u001b[0m \u001b[1;33m\u001b[0m\u001b[0m\n\u001b[0;32m   1068\u001b[0m         \u001b[1;31m# Similar to Index.get_value, but we do not fall back to positional\u001b[0m\u001b[1;33m\u001b[0m\u001b[1;33m\u001b[0m\u001b[0m\n\u001b[1;32m-> 1069\u001b[1;33m         \u001b[0mloc\u001b[0m \u001b[1;33m=\u001b[0m \u001b[0mself\u001b[0m\u001b[1;33m.\u001b[0m\u001b[0mindex\u001b[0m\u001b[1;33m.\u001b[0m\u001b[0mget_loc\u001b[0m\u001b[1;33m(\u001b[0m\u001b[0mlabel\u001b[0m\u001b[1;33m)\u001b[0m\u001b[1;33m\u001b[0m\u001b[1;33m\u001b[0m\u001b[0m\n\u001b[0m\u001b[0;32m   1070\u001b[0m         \u001b[1;32mreturn\u001b[0m \u001b[0mself\u001b[0m\u001b[1;33m.\u001b[0m\u001b[0mindex\u001b[0m\u001b[1;33m.\u001b[0m\u001b[0m_get_values_for_loc\u001b[0m\u001b[1;33m(\u001b[0m\u001b[0mself\u001b[0m\u001b[1;33m,\u001b[0m \u001b[0mloc\u001b[0m\u001b[1;33m,\u001b[0m \u001b[0mlabel\u001b[0m\u001b[1;33m)\u001b[0m\u001b[1;33m\u001b[0m\u001b[1;33m\u001b[0m\u001b[0m\n\u001b[0;32m   1071\u001b[0m \u001b[1;33m\u001b[0m\u001b[0m\n",
      "\u001b[1;32m~\\anaconda3\\lib\\site-packages\\pandas\\core\\indexes\\base.py\u001b[0m in \u001b[0;36mget_loc\u001b[1;34m(self, key, method, tolerance)\u001b[0m\n\u001b[0;32m   3629\u001b[0m                 \u001b[1;32mreturn\u001b[0m \u001b[0mself\u001b[0m\u001b[1;33m.\u001b[0m\u001b[0m_engine\u001b[0m\u001b[1;33m.\u001b[0m\u001b[0mget_loc\u001b[0m\u001b[1;33m(\u001b[0m\u001b[0mcasted_key\u001b[0m\u001b[1;33m)\u001b[0m\u001b[1;33m\u001b[0m\u001b[1;33m\u001b[0m\u001b[0m\n\u001b[0;32m   3630\u001b[0m             \u001b[1;32mexcept\u001b[0m \u001b[0mKeyError\u001b[0m \u001b[1;32mas\u001b[0m \u001b[0merr\u001b[0m\u001b[1;33m:\u001b[0m\u001b[1;33m\u001b[0m\u001b[1;33m\u001b[0m\u001b[0m\n\u001b[1;32m-> 3631\u001b[1;33m                 \u001b[1;32mraise\u001b[0m \u001b[0mKeyError\u001b[0m\u001b[1;33m(\u001b[0m\u001b[0mkey\u001b[0m\u001b[1;33m)\u001b[0m \u001b[1;32mfrom\u001b[0m \u001b[0merr\u001b[0m\u001b[1;33m\u001b[0m\u001b[1;33m\u001b[0m\u001b[0m\n\u001b[0m\u001b[0;32m   3632\u001b[0m             \u001b[1;32mexcept\u001b[0m \u001b[0mTypeError\u001b[0m\u001b[1;33m:\u001b[0m\u001b[1;33m\u001b[0m\u001b[1;33m\u001b[0m\u001b[0m\n\u001b[0;32m   3633\u001b[0m                 \u001b[1;31m# If we have a listlike key, _check_indexing_error will raise\u001b[0m\u001b[1;33m\u001b[0m\u001b[1;33m\u001b[0m\u001b[0m\n",
      "\u001b[1;31mKeyError\u001b[0m: 'revenue'"
     ]
    }
   ],
   "source": [
    "revenue = chipo['quantity'] * chipo['item_price']\n",
    "d = order_grouped = chipo.groupby(by=['order_id']).sum()\n",
    "order_grouped.mean()['revenue']"
   ]
  },
  {
   "cell_type": "code",
   "execution_count": 136,
   "id": "50f4c4a8",
   "metadata": {},
   "outputs": [
    {
     "data": {
      "text/plain": [
       "50"
      ]
     },
     "execution_count": 136,
     "metadata": {},
     "output_type": "execute_result"
    }
   ],
   "source": [
    "chipo.item_name.value_counts().count()"
   ]
  },
  {
   "cell_type": "markdown",
   "id": "268a246b",
   "metadata": {},
   "source": [
    "## Question 6 ##"
   ]
  },
  {
   "cell_type": "code",
   "execution_count": 137,
   "id": "bd603c5b",
   "metadata": {},
   "outputs": [
    {
     "data": {
      "image/png": "[encoded data removed]",
      "text/plain": [
       "<Figure size 640x480 with 1 Axes>"
      ]
     },
     "metadata": {},
     "output_type": "display_data"
    }
   ],
   "source": [
    "import pandas as pd\n",
    "import matplotlib.pyplot as plt\n",
    "data = pd.read_csv(\"us-marriages-divorces-1867-2014.csv\", index_col=0)\n",
    "\n",
    "marriages = data[\"Marriages\"]/data[\"Population\"]\n",
    "divorces = data[\"Divorces\"]/data[\"Population\"]\n",
    "\n",
    "marriage_divorce_rates = pd.DataFrame({\"Marriages\": marriages, \"Divorces\": divorces})\n",
    "marriage_divorce_rates.plot(color={\"Marriages\": \"blue\", \"Divorces\": \"red\"})\n",
    "plt.xlabel(\"Year\")\n",
    "plt.ylabel(\"Number per capita\")\n",
    "plt.title(\"Marriage and Divorce Rates per Capita in the U.S. (1867-2014)\")\n",
    "\n",
    "plt.legend()\n",
    "plt.show()\n"
   ]
  },
  {
   "cell_type": "markdown",
   "id": "bf701438",
   "metadata": {},
   "source": [
    "## Question 7 ##"
   ]
  },
  {
   "cell_type": "code",
   "execution_count": 138,
   "id": "64031156",
   "metadata": {},
   "outputs": [
    {
     "data": {
      "image/png": "[encoded data removed]",
      "text/plain": [
       "<Figure size 640x480 with 1 Axes>"
      ]
     },
     "metadata": {},
     "output_type": "display_data"
    }
   ],
   "source": [
    "import pandas as pd\n",
    "import matplotlib.pyplot as plt\n",
    "data = pd.read_csv(\"us-marriages-divorces-1867-2014.csv\", index_col=0)\n",
    "\n",
    "year=[1900, 1950,  2000]\n",
    "marriages = data.loc[year][\"Marriages\"]/data.loc[year][\"Population\"]\n",
    "divorces = data.loc[year][\"Divorces\"]/data.loc[year][\"Population\"]\n",
    "\n",
    "marriage_divorce_rates = pd.DataFrame({\"Marriages\": marriages, \"Divorces\": divorces})\n",
    "marriage_divorce_rates.plot.bar(color={\"Marriages\": \"blue\", \"Divorces\": \"red\"})\n",
    "\n",
    "plt.xlabel(\"Year\")\n",
    "plt.ylabel(\"Number per capita\")\n",
    "plt.title(\"Marriage and Divorce Rates per Capita in the U.S. in year 1900, 1950,  2000 )\")\n",
    "\n",
    "plt.legend()\n",
    "plt.show()"
   ]
  },
  {
   "cell_type": "markdown",
   "id": "1239a121",
   "metadata": {},
   "source": [
    "## Question 8 ##"
   ]
  },
  {
   "cell_type": "code",
   "execution_count": 139,
   "id": "acc1f532",
   "metadata": {},
   "outputs": [
    {
     "name": "stdout",
     "output_type": "stream",
     "text": [
      "Index(['Actor', 'Count'], dtype='object')\n"
     ]
    },
    {
     "data": {
      "image/png": "[encoded data removed]",
      "text/plain": [
       "<Figure size 640x480 with 1 Axes>"
      ]
     },
     "metadata": {},
     "output_type": "display_data"
    }
   ],
   "source": [
    "import matplotlib.pyplot as py\n",
    "import pandas as pd\n",
    "actorcount= pd.read_csv('actor_kill_counts.csv')\n",
    "actorcount.columns\n",
    "print(actorcount.columns)\n",
    "\n",
    "sorting = actorcount.sort_values(by='Count', ascending=True)\n",
    "names = actorData.Actor\n",
    "\n",
    "py.barh(sorting['Actor'], sorting['Count'], color='blue') \n",
    "py.xlabel(\"Total Number of Kills\")\n",
    "py.ylabel(\"Actor Names\")\n",
    "\n",
    "py.title(\"Hollywood's Deadliest Actors Chart \\n\\n\")\n",
    "py.legend(labels=['Total Kills Made By Actors'])\n",
    "\n",
    "py.show()\n",
    "\n",
    "\n"
   ]
  },
  {
   "cell_type": "markdown",
   "id": "18a9507f",
   "metadata": {},
   "source": [
    "## Question 9 ##"
   ]
  },
  {
   "cell_type": "code",
   "execution_count": 140,
   "id": "ce2ae00c",
   "metadata": {},
   "outputs": [
    {
     "data": {
      "image/png": "[encoded data removed]",
      "text/plain": [
       "<Figure size 640x480 with 1 Axes>"
      ]
     },
     "metadata": {},
     "output_type": "display_data"
    }
   ],
   "source": [
    "import matplotlib.pyplot as py\n",
    "import pandas as pd\n",
    "\n",
    "readdata=pd.read_csv('roman-emperor-reigns.csv')\n",
    "#print(readdata.head())\n",
    "readdata.columns\n",
    "\n",
    "data1 = readdata.where(readdata.Cause_of_Death == \"Assassinated\").Cause_of_Death.count()\n",
    "data2 = readdata.Cause_of_Death.count() - data1\n",
    "\n",
    "label = [\"Deaths Caused by Other Reasons\", \"Assassinated\"]\n",
    "colors = [\"Blue\", \"Red\"]\n",
    "\n",
    "py.pie([data2, data1], labels=label, colors=colors, autopct='%.2f%%')\n",
    "py.title(\"Roman Emperors Data Chart \")\n",
    "\n",
    "py.legend()\n",
    "py.show()"
   ]
  },
  {
   "cell_type": "markdown",
   "id": "e614791e",
   "metadata": {},
   "source": [
    "## Question 10 ##"
   ]
  },
  {
   "cell_type": "code",
   "execution_count": 45,
   "id": "640f42ba",
   "metadata": {},
   "outputs": [
    {
     "data": {
      "image/png": "[encoded data removed]",
      "text/plain": [
       "<Figure size 640x480 with 1 Axes>"
      ]
     },
     "metadata": {},
     "output_type": "display_data"
    }
   ],
   "source": [
    "import pandas as pd\n",
    "import matplotlib.pyplot as plt\n",
    "\n",
    "\n",
    "df = pd.read_csv('arcade-revenue-vs-cs-doctorates.csv')\n",
    "\n",
    "\n",
    "Total = df['Total Arcade Revenue (billions)']\n",
    "doctoratPHD = df['Computer Science Doctorates Awarded (US)']\n",
    "\n",
    "\n",
    "colors = [\"Red\", \"Blue\", \"Green\", \"Pink\", \"Black\", \"Gray\", \"Orange\", \"Yellow\", \"Brown\", \"Purple\"]\n",
    "\n",
    "\n",
    "plt.scatter(Total, doctoratPHD, c=df['Year'], cmap='hsv')\n",
    "\n",
    "\n",
    "plt.xlabel('Total Arcade Revenue (billions)')\n",
    "plt.ylabel('Computer Science Doctorates Awarded (US)')\n",
    "plt.title('Relationship between Arcade Revenue and Computer Science Doctorates Awarded (2000-2009)')\n",
    "\n",
    "\n",
    "plt.show()"
   ]
  }
 ],
 "metadata": {
  "kernelspec": {
   "display_name": "Python 3 (ipykernel)",
   "language": "python",
   "name": "python3"
  },
  "language_info": {
   "codemirror_mode": {
    "name": "ipython",
    "version": 3
   },
   "file_extension": ".py",
   "mimetype": "text/x-python",
   "name": "python",
   "nbconvert_exporter": "python",
   "pygments_lexer": "ipython3",
   "version": "3.9.13"
  }
 },
 "nbformat": 4,
 "nbformat_minor": 5
}
